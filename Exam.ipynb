{
 "cells": [
  {
   "cell_type": "markdown",
   "metadata": {},
   "source": [
    "# Data 301 Final Exam"
   ]
  },
  {
   "cell_type": "code",
   "execution_count": 1,
   "metadata": {},
   "outputs": [],
   "source": [
    "## Import commands \n",
    "# Please put all import commands here\n",
    "import pandas as pd\n",
    "import numpy as np\n",
    "import matplotlib.pyplot as plt\n",
    "import seaborn as sns"
   ]
  },
  {
   "cell_type": "markdown",
   "metadata": {},
   "source": [
    "## Introduction"
   ]
  },
  {
   "cell_type": "markdown",
   "metadata": {},
   "source": [
    "On Test 4 and Bonus Test 4, you worked on the `penguins` dataset.\n",
    "For the **first part of the exam (32%)**, we will continue working with that dataset and do some more in-depth analysis.\n",
    "\n",
    "For the **second part of the exam (60%)**, you will see a new dataset be expected to do some data loading, cleaning, processing, wrangling, and visualization. This part will be free-form and open-ended so you can demonstrate your skills. \n",
    "\n",
    "The **third part of the exam (8%)** is about whether you are able to follow instructions to commit and push your exam to the repository at various points of the exam (at minimum, you can of course commit and push more than the minimum).\n",
    "\n",
    "The exam is roughly out of 100, I reserve the right to slightly adjust point values and make some questions bonus as needed."
   ]
  },
  {
   "cell_type": "markdown",
   "metadata": {},
   "source": [
    "## Part 1: More about Penguins (32%)\n",
    "\n",
    "The penguins dataset needs no further introduction.\n",
    "<img src=\"https://github.com/allisonhorst/palmerpenguins/blob/master/man/figures/lter_penguins.png?raw=true\">"
   ]
  },
  {
   "cell_type": "markdown",
   "metadata": {},
   "source": [
    "### Q1.1 - Load the penguins dataset (2 marks)\n",
    "\n",
    "*Hint: You must use seaborn.load_dataset for full marks.*"
   ]
  },
  {
   "cell_type": "code",
   "execution_count": 2,
   "metadata": {},
   "outputs": [
    {
     "data": {
      "text/html": [
       "<div>\n",
       "<style scoped>\n",
       "    .dataframe tbody tr th:only-of-type {\n",
       "        vertical-align: middle;\n",
       "    }\n",
       "\n",
       "    .dataframe tbody tr th {\n",
       "        vertical-align: top;\n",
       "    }\n",
       "\n",
       "    .dataframe thead th {\n",
       "        text-align: right;\n",
       "    }\n",
       "</style>\n",
       "<table border=\"1\" class=\"dataframe\">\n",
       "  <thead>\n",
       "    <tr style=\"text-align: right;\">\n",
       "      <th></th>\n",
       "      <th>species</th>\n",
       "      <th>island</th>\n",
       "      <th>bill_length_mm</th>\n",
       "      <th>bill_depth_mm</th>\n",
       "      <th>flipper_length_mm</th>\n",
       "      <th>body_mass_g</th>\n",
       "      <th>sex</th>\n",
       "    </tr>\n",
       "  </thead>\n",
       "  <tbody>\n",
       "    <tr>\n",
       "      <th>0</th>\n",
       "      <td>Adelie</td>\n",
       "      <td>Torgersen</td>\n",
       "      <td>39.1</td>\n",
       "      <td>18.7</td>\n",
       "      <td>181.0</td>\n",
       "      <td>3750.0</td>\n",
       "      <td>Male</td>\n",
       "    </tr>\n",
       "    <tr>\n",
       "      <th>1</th>\n",
       "      <td>Adelie</td>\n",
       "      <td>Torgersen</td>\n",
       "      <td>39.5</td>\n",
       "      <td>17.4</td>\n",
       "      <td>186.0</td>\n",
       "      <td>3800.0</td>\n",
       "      <td>Female</td>\n",
       "    </tr>\n",
       "    <tr>\n",
       "      <th>2</th>\n",
       "      <td>Adelie</td>\n",
       "      <td>Torgersen</td>\n",
       "      <td>40.3</td>\n",
       "      <td>18.0</td>\n",
       "      <td>195.0</td>\n",
       "      <td>3250.0</td>\n",
       "      <td>Female</td>\n",
       "    </tr>\n",
       "    <tr>\n",
       "      <th>3</th>\n",
       "      <td>Adelie</td>\n",
       "      <td>Torgersen</td>\n",
       "      <td>NaN</td>\n",
       "      <td>NaN</td>\n",
       "      <td>NaN</td>\n",
       "      <td>NaN</td>\n",
       "      <td>NaN</td>\n",
       "    </tr>\n",
       "    <tr>\n",
       "      <th>4</th>\n",
       "      <td>Adelie</td>\n",
       "      <td>Torgersen</td>\n",
       "      <td>36.7</td>\n",
       "      <td>19.3</td>\n",
       "      <td>193.0</td>\n",
       "      <td>3450.0</td>\n",
       "      <td>Female</td>\n",
       "    </tr>\n",
       "    <tr>\n",
       "      <th>...</th>\n",
       "      <td>...</td>\n",
       "      <td>...</td>\n",
       "      <td>...</td>\n",
       "      <td>...</td>\n",
       "      <td>...</td>\n",
       "      <td>...</td>\n",
       "      <td>...</td>\n",
       "    </tr>\n",
       "    <tr>\n",
       "      <th>339</th>\n",
       "      <td>Gentoo</td>\n",
       "      <td>Biscoe</td>\n",
       "      <td>NaN</td>\n",
       "      <td>NaN</td>\n",
       "      <td>NaN</td>\n",
       "      <td>NaN</td>\n",
       "      <td>NaN</td>\n",
       "    </tr>\n",
       "    <tr>\n",
       "      <th>340</th>\n",
       "      <td>Gentoo</td>\n",
       "      <td>Biscoe</td>\n",
       "      <td>46.8</td>\n",
       "      <td>14.3</td>\n",
       "      <td>215.0</td>\n",
       "      <td>4850.0</td>\n",
       "      <td>Female</td>\n",
       "    </tr>\n",
       "    <tr>\n",
       "      <th>341</th>\n",
       "      <td>Gentoo</td>\n",
       "      <td>Biscoe</td>\n",
       "      <td>50.4</td>\n",
       "      <td>15.7</td>\n",
       "      <td>222.0</td>\n",
       "      <td>5750.0</td>\n",
       "      <td>Male</td>\n",
       "    </tr>\n",
       "    <tr>\n",
       "      <th>342</th>\n",
       "      <td>Gentoo</td>\n",
       "      <td>Biscoe</td>\n",
       "      <td>45.2</td>\n",
       "      <td>14.8</td>\n",
       "      <td>212.0</td>\n",
       "      <td>5200.0</td>\n",
       "      <td>Female</td>\n",
       "    </tr>\n",
       "    <tr>\n",
       "      <th>343</th>\n",
       "      <td>Gentoo</td>\n",
       "      <td>Biscoe</td>\n",
       "      <td>49.9</td>\n",
       "      <td>16.1</td>\n",
       "      <td>213.0</td>\n",
       "      <td>5400.0</td>\n",
       "      <td>Male</td>\n",
       "    </tr>\n",
       "  </tbody>\n",
       "</table>\n",
       "<p>344 rows × 7 columns</p>\n",
       "</div>"
      ],
      "text/plain": [
       "    species     island  bill_length_mm  bill_depth_mm  flipper_length_mm  \\\n",
       "0    Adelie  Torgersen            39.1           18.7              181.0   \n",
       "1    Adelie  Torgersen            39.5           17.4              186.0   \n",
       "2    Adelie  Torgersen            40.3           18.0              195.0   \n",
       "3    Adelie  Torgersen             NaN            NaN                NaN   \n",
       "4    Adelie  Torgersen            36.7           19.3              193.0   \n",
       "..      ...        ...             ...            ...                ...   \n",
       "339  Gentoo     Biscoe             NaN            NaN                NaN   \n",
       "340  Gentoo     Biscoe            46.8           14.3              215.0   \n",
       "341  Gentoo     Biscoe            50.4           15.7              222.0   \n",
       "342  Gentoo     Biscoe            45.2           14.8              212.0   \n",
       "343  Gentoo     Biscoe            49.9           16.1              213.0   \n",
       "\n",
       "     body_mass_g     sex  \n",
       "0         3750.0    Male  \n",
       "1         3800.0  Female  \n",
       "2         3250.0  Female  \n",
       "3            NaN     NaN  \n",
       "4         3450.0  Female  \n",
       "..           ...     ...  \n",
       "339          NaN     NaN  \n",
       "340       4850.0  Female  \n",
       "341       5750.0    Male  \n",
       "342       5200.0  Female  \n",
       "343       5400.0    Male  \n",
       "\n",
       "[344 rows x 7 columns]"
      ]
     },
     "execution_count": 2,
     "metadata": {},
     "output_type": "execute_result"
    }
   ],
   "source": [
    "# Your solution here\n",
    "df = sns.load_dataset(\"penguins\")\n",
    "df"
   ]
  },
  {
   "cell_type": "markdown",
   "metadata": {},
   "source": [
    "### Q1.2 - How much of the data is missing? (2 marks)\n",
    "\n",
    "Your result should look something like this. The format does not matter, but this information needs to be present in your solution:\n",
    "\n",
    "```\n",
    "species               0\n",
    "island                0\n",
    "bill_length_mm        2\n",
    "bill_depth_mm         2\n",
    "flipper_length_mm     2\n",
    "body_mass_g           2\n",
    "sex                  11\n",
    "dtype: int64\n",
    "```"
   ]
  },
  {
   "cell_type": "code",
   "execution_count": 3,
   "metadata": {},
   "outputs": [
    {
     "data": {
      "text/plain": [
       "species               0\n",
       "island                0\n",
       "bill_length_mm        2\n",
       "bill_depth_mm         2\n",
       "flipper_length_mm     2\n",
       "body_mass_g           2\n",
       "sex                  11\n",
       "dtype: int64"
      ]
     },
     "execution_count": 3,
     "metadata": {},
     "output_type": "execute_result"
    }
   ],
   "source": [
    "# Your solution here\n",
    "df.isna().sum()"
   ]
  },
  {
   "cell_type": "markdown",
   "metadata": {},
   "source": [
    "### Q1.3 - How to treat the missing values? (2 marks)\n",
    "\n",
    "You notice that there are some missing values, how would you deal with the missing values in this context? In 2-3 sentences, justify and defend your choice. You do not need to provide any code for this section (but you can if you want to use results of code to justify your answer). \n",
    "\n",
    "*Hint: There is unlikely to be a wrong answer here, but whatever you choose, you must explain, justify and defend it.*"
   ]
  },
  {
   "cell_type": "markdown",
   "metadata": {},
   "source": [
    "> In this dataset, it is not logical to fill the data with another value as we have four different continuous numerical data and one binary categorical data. The most appropriate decision is to drop the rows with NaN values, and in this case, we will have more than 95% of our original dataset. "
   ]
  },
  {
   "cell_type": "code",
   "execution_count": 4,
   "metadata": {},
   "outputs": [
    {
     "data": {
      "text/plain": [
       "Text(0.5, 1.0, 'Penguin Bill Length vs. Bill Depth by Species')"
      ]
     },
     "execution_count": 4,
     "metadata": {},
     "output_type": "execute_result"
    },
    {
     "data": {
      "image/png": "[encoded data removed]",
      "text/plain": [
       "<Figure size 432x288 with 1 Axes>"
      ]
     },
     "metadata": {
      "needs_background": "light"
     },
     "output_type": "display_data"
    }
   ],
   "source": [
    "# Optional code to justify solution\n",
    "ax = sns.scatterplot(data=df,x='bill_length_mm',y='bill_depth_mm', hue='species')\n",
    "plt.xlabel('Bill Length')\n",
    "plt.ylabel('Bill Depth')\n",
    "plt.title('Penguin Bill Length vs. Bill Depth by Species')\n",
    "\n"
   ]
  },
  {
   "cell_type": "code",
   "execution_count": 5,
   "metadata": {},
   "outputs": [
    {
     "data": {
      "text/plain": [
       "Text(0.5, 1.0, 'Penguin Bill Length vs. Bill Depth by Species')"
      ]
     },
     "execution_count": 5,
     "metadata": {},
     "output_type": "execute_result"
    },
    {
     "data": {
      "image/png": "[encoded data removed]",
      "text/plain": [
       "<Figure size 432x288 with 1 Axes>"
      ]
     },
     "metadata": {
      "needs_background": "light"
     },
     "output_type": "display_data"
    }
   ],
   "source": [
    "df_one_specie = df[df['species'] == 'Adelie']\n",
    "ax = sns.stripplot(data=df,x='species',y='bill_depth_mm', hue='sex')\n",
    "plt.xlabel('Bill Length')\n",
    "plt.ylabel('Bill Depth')\n",
    "plt.title('Penguin Bill Length vs. Bill Depth by Species')\n"
   ]
  },
  {
   "cell_type": "markdown",
   "metadata": {},
   "source": [
    "### Q1.4 - Implement your chosen strategy of dealing with missing values (1 mark)"
   ]
  },
  {
   "cell_type": "code",
   "execution_count": 6,
   "metadata": {},
   "outputs": [
    {
     "data": {
      "text/plain": [
       "species              0\n",
       "island               0\n",
       "bill_length_mm       0\n",
       "bill_depth_mm        0\n",
       "flipper_length_mm    0\n",
       "body_mass_g          0\n",
       "sex                  0\n",
       "dtype: int64"
      ]
     },
     "execution_count": 6,
     "metadata": {},
     "output_type": "execute_result"
    }
   ],
   "source": [
    "# Your solution here\n",
    "df.dropna(inplace=True)\n",
    "df.isna().sum()"
   ]
  },
  {
   "cell_type": "markdown",
   "metadata": {},
   "source": [
    "### Q1.5 - Write a loop to print out the unique values of each column with categorical data (2 marks):\n",
    "\n",
    "Your sample output should look something like this:\n",
    "\n",
    "```\n",
    "species - Unique values: ['Adelie' 'Chinstrap' 'Gentoo']\n",
    "island - Unique values: ['Torgersen' 'Biscoe' 'Dream']\n",
    "sex - Unique values: ['Male' 'Female']\n",
    "```\n",
    "\n",
    "Note: depending on your choice for Q1.3 related "
   ]
  },
  {
   "cell_type": "code",
   "execution_count": 7,
   "metadata": {},
   "outputs": [
    {
     "name": "stdout",
     "output_type": "stream",
     "text": [
      "species - Unique Values: ['Adelie' 'Chinstrap' 'Gentoo']\n",
      "island - Unique Values: ['Torgersen' 'Biscoe' 'Dream']\n",
      "sex - Unique Values: ['Male' 'Female']\n"
     ]
    }
   ],
   "source": [
    "# Your solution here\n",
    "df_categorical = df.describe(exclude=[np.number]).T.index.tolist()\n",
    "df_categorical\n",
    "\n",
    "for key in df_categorical:\n",
    "    print(\"{index} - Unique Values: {result}\".format(index=key, result=df[key].unique()))"
   ]
  },
  {
   "cell_type": "markdown",
   "metadata": {},
   "source": [
    "### Q3.1 - At this point you should use the Terminal to commit and push your changes to GitHub! (1 mark)\n",
    "\n",
    "There is no need to write any code, we can use the github commit history to check this. Please do not use the web uploader or any apps (we can tell!)"
   ]
  },
  {
   "cell_type": "markdown",
   "metadata": {},
   "source": [
    "### Q1.5 - Penguin awesomeness score (part 1) (5 marks)\n",
    "\n",
    "Write a python function with the following requirements:\n",
    "\n",
    "    - Takes in 3 parameters (all strings): \"species\", \"island\", \"sex\"\n",
    "    - Returns an \"awesomeness score\", the total of the three values above\n",
    "    - Scoring system: award the following points for each categorical column\n",
    "        - Species\n",
    "            - Gentoo penguins should get a score of 10\n",
    "            - Chinstrap penguins should get a score of 8\n",
    "            - Adélie penguins should get a score of 5\n",
    "            - other/nan should get 5 (code it in, even if you don't have nans/other in your data\n",
    "\n",
    "        - Island\n",
    "            - Torgersen gets 10\n",
    "            - Biscoe gets 4\n",
    "            - Dream gets 1\n",
    "            - other/nan should get 5 (code it in, even if you don't have nans/other in your data\n",
    "\n",
    "        - Sex\n",
    "            - Male should get 4\n",
    "            - Female should get 6\n",
    "            - other/nan should get 5 (code it in, even if you don't have nans/other in your data\n"
   ]
  },
  {
   "cell_type": "code",
   "execution_count": 8,
   "metadata": {},
   "outputs": [],
   "source": [
    "def awesomeness_score_pt1(species, island, sex):\n",
    "    score = 0\n",
    "    \n",
    "    if species == 'Gentoo':\n",
    "        score += 10\n",
    "    elif species == 'Chinstrap':\n",
    "        score += 8\n",
    "    elif species == 'Adelie':\n",
    "        score += 5\n",
    "    else: \n",
    "        score += 5\n",
    "    \n",
    "    if island == 'Torgersen':\n",
    "        score += 10\n",
    "    elif island == 'Biscoe':\n",
    "        score += 4\n",
    "    elif island == 'Dream':\n",
    "        score += 1\n",
    "    else:\n",
    "        score += 5\n",
    "    \n",
    "    if sex == 'Male':\n",
    "        score += 4\n",
    "    elif sex == 'Female':\n",
    "        score += 6\n",
    "    else:\n",
    "        score+= 5\n",
    "    \n",
    "    return score\n"
   ]
  },
  {
   "cell_type": "code",
   "execution_count": 9,
   "metadata": {},
   "outputs": [],
   "source": [
    "assert (awesomeness_score_pt1('Gentoo', 'Torgersen', 'Male') == 24)\n",
    "assert (awesomeness_score_pt1('Chinstrap', 'Biscoe', 'Female') == 18)\n",
    "assert (awesomeness_score_pt1('Adelie', 'Dream', np.nan) == 11)\n",
    "assert (awesomeness_score_pt1(np.nan, np.nan, np.nan) == 15)"
   ]
  },
  {
   "cell_type": "markdown",
   "metadata": {},
   "source": [
    "### Q1.6 - Create a new column called `awesomness_1` (2 marks)\n",
    "\n",
    "Use the pandas apply function to apply the function in Q1.5 to your dataframe row by row.\n",
    "Each penguin should have a score called `awesomness_1`.\n",
    "\n",
    "*Hint: If you cannot figure out how to use the apply function, use any other way to create a column called `awesomness_1` for partial credit.*"
   ]
  },
  {
   "cell_type": "code",
   "execution_count": 12,
   "metadata": {},
   "outputs": [
    {
     "data": {
      "text/html": [
       "<div>\n",
       "<style scoped>\n",
       "    .dataframe tbody tr th:only-of-type {\n",
       "        vertical-align: middle;\n",
       "    }\n",
       "\n",
       "    .dataframe tbody tr th {\n",
       "        vertical-align: top;\n",
       "    }\n",
       "\n",
       "    .dataframe thead th {\n",
       "        text-align: right;\n",
       "    }\n",
       "</style>\n",
       "<table border=\"1\" class=\"dataframe\">\n",
       "  <thead>\n",
       "    <tr style=\"text-align: right;\">\n",
       "      <th></th>\n",
       "      <th>species</th>\n",
       "      <th>island</th>\n",
       "      <th>bill_length_mm</th>\n",
       "      <th>bill_depth_mm</th>\n",
       "      <th>flipper_length_mm</th>\n",
       "      <th>body_mass_g</th>\n",
       "      <th>sex</th>\n",
       "      <th>awesomness_1</th>\n",
       "    </tr>\n",
       "  </thead>\n",
       "  <tbody>\n",
       "    <tr>\n",
       "      <th>0</th>\n",
       "      <td>Adelie</td>\n",
       "      <td>Torgersen</td>\n",
       "      <td>39.1</td>\n",
       "      <td>18.7</td>\n",
       "      <td>181.0</td>\n",
       "      <td>3750.0</td>\n",
       "      <td>Male</td>\n",
       "      <td>19</td>\n",
       "    </tr>\n",
       "    <tr>\n",
       "      <th>1</th>\n",
       "      <td>Adelie</td>\n",
       "      <td>Torgersen</td>\n",
       "      <td>39.5</td>\n",
       "      <td>17.4</td>\n",
       "      <td>186.0</td>\n",
       "      <td>3800.0</td>\n",
       "      <td>Female</td>\n",
       "      <td>21</td>\n",
       "    </tr>\n",
       "    <tr>\n",
       "      <th>2</th>\n",
       "      <td>Adelie</td>\n",
       "      <td>Torgersen</td>\n",
       "      <td>40.3</td>\n",
       "      <td>18.0</td>\n",
       "      <td>195.0</td>\n",
       "      <td>3250.0</td>\n",
       "      <td>Female</td>\n",
       "      <td>21</td>\n",
       "    </tr>\n",
       "    <tr>\n",
       "      <th>4</th>\n",
       "      <td>Adelie</td>\n",
       "      <td>Torgersen</td>\n",
       "      <td>36.7</td>\n",
       "      <td>19.3</td>\n",
       "      <td>193.0</td>\n",
       "      <td>3450.0</td>\n",
       "      <td>Female</td>\n",
       "      <td>21</td>\n",
       "    </tr>\n",
       "    <tr>\n",
       "      <th>5</th>\n",
       "      <td>Adelie</td>\n",
       "      <td>Torgersen</td>\n",
       "      <td>39.3</td>\n",
       "      <td>20.6</td>\n",
       "      <td>190.0</td>\n",
       "      <td>3650.0</td>\n",
       "      <td>Male</td>\n",
       "      <td>19</td>\n",
       "    </tr>\n",
       "    <tr>\n",
       "      <th>...</th>\n",
       "      <td>...</td>\n",
       "      <td>...</td>\n",
       "      <td>...</td>\n",
       "      <td>...</td>\n",
       "      <td>...</td>\n",
       "      <td>...</td>\n",
       "      <td>...</td>\n",
       "      <td>...</td>\n",
       "    </tr>\n",
       "    <tr>\n",
       "      <th>338</th>\n",
       "      <td>Gentoo</td>\n",
       "      <td>Biscoe</td>\n",
       "      <td>47.2</td>\n",
       "      <td>13.7</td>\n",
       "      <td>214.0</td>\n",
       "      <td>4925.0</td>\n",
       "      <td>Female</td>\n",
       "      <td>20</td>\n",
       "    </tr>\n",
       "    <tr>\n",
       "      <th>340</th>\n",
       "      <td>Gentoo</td>\n",
       "      <td>Biscoe</td>\n",
       "      <td>46.8</td>\n",
       "      <td>14.3</td>\n",
       "      <td>215.0</td>\n",
       "      <td>4850.0</td>\n",
       "      <td>Female</td>\n",
       "      <td>20</td>\n",
       "    </tr>\n",
       "    <tr>\n",
       "      <th>341</th>\n",
       "      <td>Gentoo</td>\n",
       "      <td>Biscoe</td>\n",
       "      <td>50.4</td>\n",
       "      <td>15.7</td>\n",
       "      <td>222.0</td>\n",
       "      <td>5750.0</td>\n",
       "      <td>Male</td>\n",
       "      <td>18</td>\n",
       "    </tr>\n",
       "    <tr>\n",
       "      <th>342</th>\n",
       "      <td>Gentoo</td>\n",
       "      <td>Biscoe</td>\n",
       "      <td>45.2</td>\n",
       "      <td>14.8</td>\n",
       "      <td>212.0</td>\n",
       "      <td>5200.0</td>\n",
       "      <td>Female</td>\n",
       "      <td>20</td>\n",
       "    </tr>\n",
       "    <tr>\n",
       "      <th>343</th>\n",
       "      <td>Gentoo</td>\n",
       "      <td>Biscoe</td>\n",
       "      <td>49.9</td>\n",
       "      <td>16.1</td>\n",
       "      <td>213.0</td>\n",
       "      <td>5400.0</td>\n",
       "      <td>Male</td>\n",
       "      <td>18</td>\n",
       "    </tr>\n",
       "  </tbody>\n",
       "</table>\n",
       "<p>333 rows × 8 columns</p>\n",
       "</div>"
      ],
      "text/plain": [
       "    species     island  bill_length_mm  bill_depth_mm  flipper_length_mm  \\\n",
       "0    Adelie  Torgersen            39.1           18.7              181.0   \n",
       "1    Adelie  Torgersen            39.5           17.4              186.0   \n",
       "2    Adelie  Torgersen            40.3           18.0              195.0   \n",
       "4    Adelie  Torgersen            36.7           19.3              193.0   \n",
       "5    Adelie  Torgersen            39.3           20.6              190.0   \n",
       "..      ...        ...             ...            ...                ...   \n",
       "338  Gentoo     Biscoe            47.2           13.7              214.0   \n",
       "340  Gentoo     Biscoe            46.8           14.3              215.0   \n",
       "341  Gentoo     Biscoe            50.4           15.7              222.0   \n",
       "342  Gentoo     Biscoe            45.2           14.8              212.0   \n",
       "343  Gentoo     Biscoe            49.9           16.1              213.0   \n",
       "\n",
       "     body_mass_g     sex  awesomness_1  \n",
       "0         3750.0    Male            19  \n",
       "1         3800.0  Female            21  \n",
       "2         3250.0  Female            21  \n",
       "4         3450.0  Female            21  \n",
       "5         3650.0    Male            19  \n",
       "..           ...     ...           ...  \n",
       "338       4925.0  Female            20  \n",
       "340       4850.0  Female            20  \n",
       "341       5750.0    Male            18  \n",
       "342       5200.0  Female            20  \n",
       "343       5400.0    Male            18  \n",
       "\n",
       "[333 rows x 8 columns]"
      ]
     },
     "execution_count": 12,
     "metadata": {},
     "output_type": "execute_result"
    }
   ],
   "source": [
    "# Your solution here\n",
    "df['awesomness_1'] = df.apply(lambda x: awesomeness_score_pt1(x['species'], x['island'], x['sex']), axis=1)\n",
    "df"
   ]
  },
  {
   "cell_type": "markdown",
   "metadata": {},
   "source": [
    "### Q1.7 - Calculate percentiles for the numeric columns (1 mark)\n",
    "\n",
    "Compute the median values for each of the 4 numeric values.\n",
    "\n",
    "Sample output:\n",
    "\n",
    "```\n",
    "median_bill_length_mm = 44.5\n",
    "median_bill_depth_mm = 17.3\n",
    "median_flipper_length_mm = 197.0\n",
    "median_body_mass_g = 4050.0\n",
    "```"
   ]
  },
  {
   "cell_type": "code",
   "execution_count": 19,
   "metadata": {},
   "outputs": [
    {
     "name": "stdout",
     "output_type": "stream",
     "text": [
      "median_bill_length_mm = 44.5\n",
      "median_bill_depth_mm = 17.3\n",
      "median_flipper_length_mm = 197.0\n",
      "median_body_mass_g = 4050.0\n"
     ]
    }
   ],
   "source": [
    "# Your solution here\n",
    "df_numerical = df.describe(include=['float64']).T.index.tolist()\n",
    "\n",
    "for key in df_numerical:\n",
    "    print(\"median_{index} = {result}\".format(index=key, result=df[key].median()))\n"
   ]
  },
  {
   "cell_type": "markdown",
   "metadata": {},
   "source": [
    "### Q3.2 - At this point you should use the Terminal to commit and push your changes to GitHub! (1 mark)\n",
    "\n",
    "There is no need to write any code, we can use the github commit history to check this. Please do not use the web uploader or any apps (we can tell!)"
   ]
  },
  {
   "cell_type": "markdown",
   "metadata": {},
   "source": [
    "### Q1.8 - Penguin awesomeness score (part 2) (5 marks)\n",
    "\n",
    "Write ANOTHER python function with the following requirements:\n",
    "\n",
    "    - Takes in 4 parameters:  \"bill_length_mm\", \"bill_depth_mm\", \"flipper_length_mm\", \"body_mass_g\",\n",
    "    - Returns an \"awesomeness_score_pt2\"\n",
    "    - For **each** of the four numeric columns, award points based on the criteria:\n",
    "        - bill_length_mm \n",
    "            - more than 10% above median_bill_length_mm: 10 points\n",
    "            - within 10% of median_bill_length_mm: 5 points\n",
    "            - below 10% of median_bill_length_mm: 0 points\n",
    "            - nan values should get awarded 5 points\n",
    "\n",
    "        - bill_depth_mm\n",
    "            - more than 10% above median_bill_depth_mm: 10 points\n",
    "            - within 10% of median_bill_depth_mm: 5 points\n",
    "            - below 10% of median_bill_depth_mm: 0 points\n",
    "            - nan values should get awarded 5 points\n",
    "\n",
    "        - flipper_length_mm\n",
    "            - more than 10% above median_flipper_length_mm: 10 points\n",
    "            - within 10% of median_flipper_length_mm: 5 points\n",
    "            - below 10% of median_flipper_length_mm: 0 points\n",
    "            - nan values should median_flipper_length_mm awarded 5 points\n",
    "\n",
    "        - body_mass_g\n",
    "            - more than 10% above median_body_mass_g: 10 points\n",
    "            - within 10% of median_body_mass_g: 5 points\n",
    "            - below 10% of median_body_mass_g: 0 points\n",
    "            - nan values should median_body_mass_g awarded 5 points\n",
    "\n"
   ]
  },
  {
   "cell_type": "code",
   "execution_count": null,
   "metadata": {},
   "outputs": [],
   "source": [
    "# Your solution here\n",
    "\n",
    "def your_function_name2():\n",
    "    \n",
    "    # Your solution here (remember to change the name of the function to something reasonable!)\n",
    "    \n",
    "    return awesomeness_score_pt2"
   ]
  },
  {
   "cell_type": "markdown",
   "metadata": {},
   "source": [
    "### Q1.9 - Create a new column called `awesomness_2` (2 marks)\n",
    "\n",
    "Use the pandas apply function to apply the function in Q1.8 to your dataframe row by row.\n",
    "Each penguin should have a score called `awesomness_2`.\n",
    "\n",
    "*Hint: If you cannot figure out how to use the apply function, use any other way to create a column called `awesomness_2` for partial credit.*"
   ]
  },
  {
   "cell_type": "code",
   "execution_count": null,
   "metadata": {},
   "outputs": [],
   "source": [
    "# Your solution here"
   ]
  },
  {
   "cell_type": "markdown",
   "metadata": {},
   "source": [
    "### Q1.10 - Add awesomeness_1 and awesomeness_2 as a new column (1 mark)\n",
    "\n",
    "Create a new column in your dataframe called \"Awesomeness_score\" and compute it by adding awesomeness_1 and awesomeness_2 together.\n",
    "\n",
    "*Hint: If you were not able to calculate or add awesomeness_1 and awesomeness_2 you can still get this mark by showing us you know how you WOULD add the two columns together.*"
   ]
  },
  {
   "cell_type": "code",
   "execution_count": null,
   "metadata": {},
   "outputs": [],
   "source": [
    "# Your solution here"
   ]
  },
  {
   "cell_type": "markdown",
   "metadata": {},
   "source": [
    "### Q3.3 - At this point you should use the Terminal to commit and push your changes to GitHub! (1 mark)\n",
    "\n",
    "There is no need to write any code, we can use the github commit history to check this. Please do not use the web uploader or any apps (we can tell!)"
   ]
  },
  {
   "cell_type": "markdown",
   "metadata": {},
   "source": [
    "### Q1.11 - Create ONE violin plot (using seaborn) to show the awesomeness score of each of the three penguin species. (3 marks)\n",
    "\n",
    "*Hint: If you could not calculate the awesomness score, you can still get marks for this question by showing us you know how to create violin plots using seaborn. Instead of awesomeness score, you can answer how the `body_mass_g` is distributed by the species.*"
   ]
  },
  {
   "cell_type": "code",
   "execution_count": null,
   "metadata": {},
   "outputs": [],
   "source": [
    "# Your solution here"
   ]
  },
  {
   "cell_type": "markdown",
   "metadata": {},
   "source": [
    "### Q1.12 - Comment on the plot above - what are some observations from the data and the plot? (2 marks)\n",
    "\n",
    "Note: I am **not** asking you to make statistically relevant observations here; you should be able to describe what is happening in the plot above using words.\n",
    "\n",
    "*Hint: You do not need more than 2-3 sentences here.*"
   ]
  },
  {
   "cell_type": "markdown",
   "metadata": {},
   "source": [
    "> Your solution here"
   ]
  },
  {
   "cell_type": "markdown",
   "metadata": {},
   "source": [
    "### Q1.13 - Critique the analysis that we did above. Can you think of any problems with the awesomeness score? (2 marks)\n",
    "\n",
    "**Note:** If you do see problems, suggest ways we could address them. If you do not see problems, justify or defend the awesomeness score. \n",
    "\n",
    "*Hint: You do not need more than 2-3 sentences here.*"
   ]
  },
  {
   "cell_type": "markdown",
   "metadata": {},
   "source": [
    "You now know more about penguins than you likely ever will in your lifetime.\n",
    "\n",
    "## End of Part one.\n",
    "\n",
    "Take a break, grab a snack! remember this take-home final is not timed, but you must submit it before the end of the 48 hour window!"
   ]
  },
  {
   "cell_type": "markdown",
   "metadata": {},
   "source": [
    "### Q3.4 - At this point you should use the Terminal to commit and push your changes to GitHub! (1 mark)\n",
    "\n",
    "There is no need to write any code, we can use the github commit history to check this. Please do not use the web uploader or any apps (we can tell!)"
   ]
  },
  {
   "cell_type": "markdown",
   "metadata": {},
   "source": [
    "## Part 2: Open-ended analysis (60%)"
   ]
  },
  {
   "cell_type": "markdown",
   "metadata": {},
   "source": [
    "### Introduction"
   ]
  },
  {
   "cell_type": "markdown",
   "metadata": {},
   "source": [
    "In this repository, there is a file called `StudentsPerformance.csv`. Here is the description of the data:\n",
    "\n",
    "- There are 1000 students that attended a paid workshop to improve their standardized test results.\n",
    "- Each student has some demographic information, as well as some test scores. \n",
    "- Here is the description of each column:\n",
    "    - gender: male or female.\n",
    "    - race/ethnicity: anonymized to remove the information, but grouped into categories.\n",
    "    - parental level of education: the highest level of education parents of the student completed (highest is chosen of both parents).\n",
    "    - lunch: This is a column that is a surrogate for socioeconomic status. \"standard\" means these students paid their way, \"free/reduced\" means that the students requested a subsidy/bursary to cover costs.\n",
    "    - test preparation course: students that completed a test-preparation score get \"completed\" and those that didn't get \"none\".\n",
    "    - math score: score on the math standardized test (out of 100).\n",
    "    - reading score: score on the reading standardized test (out of 100).\n",
    "    - writing score: score on the writing standardized test (out of 100). "
   ]
  },
  {
   "cell_type": "markdown",
   "metadata": {},
   "source": [
    "### Q2.1 - Load the data (2 marks)"
   ]
  },
  {
   "cell_type": "code",
   "execution_count": null,
   "metadata": {},
   "outputs": [],
   "source": [
    "# Your solution here"
   ]
  },
  {
   "cell_type": "markdown",
   "metadata": {},
   "source": [
    "### Q2.2 - Clean the data (3 marks)\n",
    "\n",
    "This step is needed so you can visualize your data easier.\n",
    "\n",
    "Replace the \"Parental level of Education\" column as follows:\n",
    "\n",
    "- \"some high school\" to: \"1-some high school\"\n",
    "- \"high school\" to: \"2-high school\"\n",
    "- \"some college\" to: \"3-some college\"\n",
    "- \"associate's degree\" to: \"4-associate's degree\"\n",
    "- \"bachelor's degree\" to: \"5-bachelor's degree\"\n",
    "- \"master's degree\" to: \"6-master's degree\"\n"
   ]
  },
  {
   "cell_type": "code",
   "execution_count": null,
   "metadata": {},
   "outputs": [],
   "source": [
    "# Your solution here"
   ]
  },
  {
   "cell_type": "markdown",
   "metadata": {},
   "source": [
    "### Q2.3 - Exploratory Data Analysis (15 marks)\n",
    "\n",
    "Do an EDA to understand your dataset. No additional guidelines/requirements are given (you should know what a good EDA includes by now!)"
   ]
  },
  {
   "cell_type": "code",
   "execution_count": null,
   "metadata": {},
   "outputs": [],
   "source": [
    "# Your solution here (feel free to add more cells as needed)."
   ]
  },
  {
   "cell_type": "markdown",
   "metadata": {},
   "source": [
    "### Q3.5 - At this point you should use the Terminal to commit and push your changes to GitHub! (1 mark)\n",
    "\n",
    "There is no need to write any code, we can use the github commit history to check this. Please do not use the web uploader or any apps (we can tell!)"
   ]
  },
  {
   "cell_type": "markdown",
   "metadata": {},
   "source": [
    "## Answering Research questions (and creating your own)\n",
    "\n",
    "Below are 2 research questions I have given you, and 2 research questions that you need to come up with (and answer).\n",
    "\n",
    "For each research question below:\n",
    "    - please answer it using ONLY this dataset (i.e. please do not find other datasets and merge them with this).\n",
    "    - create at least one visualization to answer your research question.\n",
    "    - write a few sentences (no more than 5) explaining how the plot answers your research question.\n",
    "\n",
    "You will be graded on how well your analysis and visualizations answer the research questions. The point value for each question is in brackets.\n",
    "\n",
    "Be creative and be free! \n",
    "\n",
    "Good luck!"
   ]
  },
  {
   "cell_type": "markdown",
   "metadata": {},
   "source": [
    "### Q2.4: How does the parental level of education correspond to the students' average math, writing, and reading scores? (10 marks)"
   ]
  },
  {
   "cell_type": "code",
   "execution_count": null,
   "metadata": {},
   "outputs": [],
   "source": [
    "# Your solution here (feel free to add more cells as needed)."
   ]
  },
  {
   "cell_type": "markdown",
   "metadata": {},
   "source": [
    "### Q2.5: How do the average scores vary by gender (assigned at birth) (10 marks)"
   ]
  },
  {
   "cell_type": "code",
   "execution_count": null,
   "metadata": {},
   "outputs": [],
   "source": [
    "# Your solution here (feel free to add more cells as needed)."
   ]
  },
  {
   "cell_type": "markdown",
   "metadata": {},
   "source": [
    "### Q3.6 - At this point you should use the Terminal to commit and push your changes to GitHub! (1 mark)\n",
    "\n",
    "There is no need to write any code, we can use the github commit history to check this. Please do not use the web uploader or any apps (we can tell!)"
   ]
  },
  {
   "cell_type": "markdown",
   "metadata": {},
   "source": [
    "### Q2.5: Create your own research question 1 and answer it (12 marks)"
   ]
  },
  {
   "cell_type": "code",
   "execution_count": null,
   "metadata": {},
   "outputs": [],
   "source": [
    "# Your solution here (feel free to add more cells as needed)."
   ]
  },
  {
   "cell_type": "markdown",
   "metadata": {},
   "source": [
    "### Q3.7 - At this point you should use the Terminal to commit and push your changes to GitHub! (1 mark)\n",
    "\n",
    "There is no need to write any code, we can use the github commit history to check this. Please do not use the web uploader or any apps (we can tell!)"
   ]
  },
  {
   "cell_type": "markdown",
   "metadata": {},
   "source": [
    "### Q2.6: Create your own research question 2 and answer it (12 marks)"
   ]
  },
  {
   "cell_type": "code",
   "execution_count": null,
   "metadata": {},
   "outputs": [],
   "source": [
    "# Your solution here (feel free to add more cells as needed)."
   ]
  },
  {
   "cell_type": "markdown",
   "metadata": {},
   "source": [
    "### Q3.8 - At this point you should use the Terminal to commit and push your changes to GitHub! (1 mark)\n",
    "\n",
    "There is no need to write any code, we can use the github commit history to check this. Please do not use the web uploader or any apps (we can tell!)"
   ]
  },
  {
   "cell_type": "code",
   "execution_count": null,
   "metadata": {},
   "outputs": [],
   "source": []
  },
  {
   "cell_type": "markdown",
   "metadata": {},
   "source": [
    "That's it! Have a wonderful break - thanks for a great course!\n",
    "\n",
    "Please let me know using the anonymous feedback form what you thought of the exam: https://firas.moosvi.com/courses/data301/about/feedback.html. It's the first time I've done an exam like this!"
   ]
  }
 ],
 "metadata": {
  "kernelspec": {
   "display_name": "Python 3",
   "language": "python",
   "name": "python3"
  },
  "language_info": {
   "codemirror_mode": {
    "name": "ipython",
    "version": 3
   },
   "file_extension": ".py",
   "mimetype": "text/x-python",
   "name": "python",
   "nbconvert_exporter": "python",
   "pygments_lexer": "ipython3",
   "version": "3.8.3"
  }
 },
 "nbformat": 4,
 "nbformat_minor": 4
}
